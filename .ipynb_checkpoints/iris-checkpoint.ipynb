{
 "cells": [
  {
   "cell_type": "code",
   "execution_count": 2,
   "metadata": {},
   "outputs": [],
   "source": [
    "import numpy as np\n",
    "import pandas as pd\n",
    "import seaborn as sns\n",
    "import matplotlib.pyplot as plt\n",
    "from sklearn import preprocessing\n",
    "from sklearn.cluster import KMeans\n",
    "from sklearn.metrics import silhouette_score"
   ]
  },
  {
   "cell_type": "code",
   "execution_count": 7,
   "metadata": {},
   "outputs": [
    {
     "data": {
      "text/html": [
       "<div>\n",
       "<style scoped>\n",
       "    .dataframe tbody tr th:only-of-type {\n",
       "        vertical-align: middle;\n",
       "    }\n",
       "\n",
       "    .dataframe tbody tr th {\n",
       "        vertical-align: top;\n",
       "    }\n",
       "\n",
       "    .dataframe thead th {\n",
       "        text-align: right;\n",
       "    }\n",
       "</style>\n",
       "<table border=\"1\" class=\"dataframe\">\n",
       "  <thead>\n",
       "    <tr style=\"text-align: right;\">\n",
       "      <th></th>\n",
       "      <th>sepal_length</th>\n",
       "      <th>sepal_width</th>\n",
       "      <th>petal_length</th>\n",
       "      <th>petal_width</th>\n",
       "      <th>species</th>\n",
       "    </tr>\n",
       "  </thead>\n",
       "  <tbody>\n",
       "    <tr>\n",
       "      <td>0</td>\n",
       "      <td>5.5</td>\n",
       "      <td>2.4</td>\n",
       "      <td>3.7</td>\n",
       "      <td>1.0</td>\n",
       "      <td>versicolor</td>\n",
       "    </tr>\n",
       "    <tr>\n",
       "      <td>1</td>\n",
       "      <td>5.4</td>\n",
       "      <td>3.9</td>\n",
       "      <td>1.3</td>\n",
       "      <td>0.4</td>\n",
       "      <td>setosa</td>\n",
       "    </tr>\n",
       "    <tr>\n",
       "      <td>2</td>\n",
       "      <td>7.0</td>\n",
       "      <td>3.2</td>\n",
       "      <td>4.7</td>\n",
       "      <td>1.4</td>\n",
       "      <td>versicolor</td>\n",
       "    </tr>\n",
       "  </tbody>\n",
       "</table>\n",
       "</div>"
      ],
      "text/plain": [
       "   sepal_length  sepal_width  petal_length  petal_width     species\n",
       "0           5.5          2.4           3.7          1.0  versicolor\n",
       "1           5.4          3.9           1.3          0.4      setosa\n",
       "2           7.0          3.2           4.7          1.4  versicolor"
      ]
     },
     "execution_count": 7,
     "metadata": {},
     "output_type": "execute_result"
    }
   ],
   "source": [
    "#iris일기\n",
    "iris_df = sns.load_dataset('iris').sample(frac=1).reset_index(drop=True)\n",
    "iris_df.head(3)"
   ]
  },
  {
   "cell_type": "code",
   "execution_count": 8,
   "metadata": {},
   "outputs": [],
   "source": [
    "# x와 y컬럼을 지정\n",
    "x_col = ['sepal_length','sepal_width','petal_length','petal_width']\n",
    "y_col = 'species'\n"
   ]
  },
  {
   "cell_type": "code",
   "execution_count": 13,
   "metadata": {},
   "outputs": [
    {
     "name": "stdout",
     "output_type": "stream",
     "text": [
      "['versicolor', 'setosa', 'versicolor', 'setosa', 'setosa'] -> [1, 0, 1, 0, 0]\n"
     ]
    }
   ],
   "source": [
    "#y컬럼의 문자열값을 labelEncoder를 통해 숫자로 바꾼다\n",
    "y_true_label_encoder = preprocessing.LabelEncoder()\n",
    "y_true_encoded = y_true_label_encoder.fit_transform(iris_df[y_col])\n",
    "print(list(iris_df[y_col][:5]),'->',list(y_true_encoded[:5])) #샘플출력"
   ]
  },
  {
   "cell_type": "code",
   "execution_count": null,
   "metadata": {},
   "outputs": [],
   "source": [
    "#k클러스터의 개수 2-9까지 조정하면서 KMeans 모델 생성 및 학습"
   ]
  },
  {
   "cell_type": "code",
   "execution_count": 18,
   "metadata": {},
   "outputs": [],
   "source": [
    "kMeansModels              = dict() # k값별 모델 저장할 딕셔너리\n",
    "kMeansModelPreds          = dict() # k값별 모델 예측 결과 저장할 딕셔너리\n",
    "kMeansModelLabelEncoder   = dict() # k값별 라벨인코더 저장할 딕셔너리\n",
    "\n",
    "sumSquaredDistancesList   = list() # 샘플과 클러스터 센터간 거리 제곱의 합 리스트\n",
    "silhouetteScoreList       = list() # Silhouette Coefficient 평균 리스트\n",
    "\n",
    "ks = [2,3,4,5,6,7,8,9] # k값으로 2부터 9까지 테스트한다\n",
    "for k in ks: # k값 순회\n",
    "    model = KMeans(n_clusters=k, random_state=0, n_init=100)  # k개 클러스터로 모델 생성\n",
    "    cluster_labels = model.fit_predict(iris_df[x_col]) # X컬럼으로 지정된 필드값으로 피팅\n",
    "    \n",
    "    y_pred_label_encoder = preprocessing.LabelEncoder() # 예측한 클러스터에서 사용할 라벨인코더\n",
    "    # 초기 임의 값 (unknown 1, unknown 2...) 으로 인코딩한다\n",
    "    y_pred_label_encoder.fit(np.array(['unknown ' + str(i+1) for i in range(0, k, 1)], dtype=object))\n",
    "    for pred_label_num in range(0,k,1): # 각 클러스터 순회        \n",
    "        # 해당 클러스터에서 가장 많이 출력한 실제 값의 인덱스를 구한다\n",
    "        most_frequent_index = np.argmax(np.bincount(y_true_encoded[cluster_labels==pred_label_num]))\n",
    "        # 구한 인덱스의 라벨을 구해서 해당클러스터 라벨로 업데이트한다\n",
    "        y_pred_label_encoder.classes_[pred_label_num] = y_true_label_encoder.classes_[most_frequent_index]\n",
    "    \n",
    "    kMeansModels[k]     = model                       # 모델 저장\n",
    "    kMeansModelPreds[k] = cluster_labels              # 모델 예측결과 저장     \n",
    "    kMeansModelLabelEncoder[k] = y_pred_label_encoder # 라벨인코더 저장\n",
    "    sumSquaredDistancesList.append(model.inertia_)    # # 샘플과 클러스터 센터간 거리 제곱의 합 저장\n",
    "    silhouetteScoreList.append(silhouette_score(iris_df[x_col].values, cluster_labels)) # Silhouette Score저장"
   ]
  },
  {
   "cell_type": "code",
   "execution_count": 19,
   "metadata": {},
   "outputs": [],
   "source": [
    "# k(클러스터) 개수에 따라 \"샘플과 클러스터 센터간 거리 제곱의 합\"을 그래프로 그려본다.\n"
   ]
  },
  {
   "cell_type": "code",
   "execution_count": 21,
   "metadata": {},
   "outputs": [
    {
     "data": {
      "image/png": "[encoded data removed]",
      "text/plain": [
       "<Figure size 432x288 with 1 Axes>"
      ]
     },
     "metadata": {
      "needs_background": "light"
     },
     "output_type": "display_data"
    }
   ],
   "source": [
    "plt.plot(ks, sumSquaredDistancesList)\n",
    "plt.xlabel(\"Number of cluster\")\n",
    "plt.ylabel(\"Sum of squared distances\")\n",
    "plt.show()"
   ]
  },
  {
   "cell_type": "code",
   "execution_count": 23,
   "metadata": {},
   "outputs": [
    {
     "data": {
      "image/png": "[encoded data removed]",
      "text/plain": [
       "<Figure size 432x288 with 1 Axes>"
      ]
     },
     "metadata": {
      "needs_background": "light"
     },
     "output_type": "display_data"
    }
   ],
   "source": [
    "plt.plot(ks, silhouetteScoreList)\n",
    "plt.xlabel(\"Number of cluster\")\n",
    "plt.ylabel(\"Sum of squared distances\")\n",
    "plt.show()"
   ]
  },
  {
   "cell_type": "code",
   "execution_count": 24,
   "metadata": {},
   "outputs": [],
   "source": [
    "#드롭다운에서 선택하면서 사용자와 상호작용이 가능! 동시에 그래프를 본다"
   ]
  },
  {
   "cell_type": "code",
   "execution_count": 25,
   "metadata": {},
   "outputs": [],
   "source": [
    "def render_plot(x_col='petal_length', y_col='petal_width', k=3):\n",
    "    y_pred        = kMeansModelPreds[k]        # 모델 예측값\n",
    "    label_encoder = kMeansModelLabelEncoder[k] # 라벨인코더\n",
    "    \n",
    "    # 원본과 예측값을 합쳐 데이터셋을 준비\n",
    "    mdf = pd.concat([iris_df, pd.DataFrame(label_encoder.inverse_transform(y_pred), columns=[y_column+'_pred'])], axis=1)\n",
    "    \n",
    "    plt.figure(figsize=(15,8)) # 출력 크기를 지정\n",
    "    \n",
    "    ddf = mdf[mdf[y_column] != mdf[y_column+'_pred']] # 실제라벨과 예측라벨이 틀린 경우 추출\n",
    "    # X기호로 error임을 표시한다\n",
    "    plt.scatter(x=ddf[x_col], y=ddf[y_col], c='black', marker='x', s=300, label='error') \n",
    "    \n",
    "    colors = ['blue', 'red', 'green', 'cyan', 'magenta', 'yellow', 'black'] # 컬러값 리스트\n",
    "    for (idx,cls) in enumerate(list(y_true_label_encoder.classes_)):\n",
    "        ddf = mdf[mdf[y_column] == cls] # 실제라벨 데이터는 작은 점으로 출력\n",
    "        plt.scatter(x=ddf[x_col], y=ddf[y_col], c=colors[idx], marker='.', linewidths=3, s=50, label=cls)\n",
    "        ddf = mdf[mdf[y_column+'_pred'] == cls] # 예측라벨 데이터는 큰 원으로 출력\n",
    "        plt.scatter(x=ddf[x_col], y=ddf[y_col], c=colors[idx], marker='o', linewidths=13, s=2, label=cls+' pred')\n",
    "    \n",
    "    plt.legend();plt.xlabel(x_col);plt.ylabel(y_col)\n",
    "    print('accuracy {:.2f}'.format(np.mean(mdf[y_column] == mdf[y_column+'_pred']))) # 정확도 출력\n",
    "    plt.show()\n"
   ]
  },
  {
   "cell_type": "code",
   "execution_count": 27,
   "metadata": {},
   "outputs": [],
   "source": [
    "from ipywidgets import interact"
   ]
  },
  {
   "cell_type": "code",
   "execution_count": 28,
   "metadata": {},
   "outputs": [
    {
     "ename": "NameError",
     "evalue": "name 'x_columns' is not defined",
     "output_type": "error",
     "traceback": [
      "\u001b[1;31m---------------------------------------------------------------------------\u001b[0m",
      "\u001b[1;31mNameError\u001b[0m                                 Traceback (most recent call last)",
      "\u001b[1;32m<ipython-input-28-55c3d16a1011>\u001b[0m in \u001b[0;36m<module>\u001b[1;34m\u001b[0m\n\u001b[1;32m----> 1\u001b[1;33m \u001b[0minteract\u001b[0m\u001b[1;33m(\u001b[0m\u001b[0mrender_plot\u001b[0m\u001b[1;33m,\u001b[0m \u001b[0mx_col\u001b[0m\u001b[1;33m=\u001b[0m\u001b[0mx_columns\u001b[0m\u001b[1;33m,\u001b[0m \u001b[0my_col\u001b[0m\u001b[1;33m=\u001b[0m\u001b[0mx_columns\u001b[0m\u001b[1;33m,\u001b[0m \u001b[0mk\u001b[0m\u001b[1;33m=\u001b[0m\u001b[0mks\u001b[0m\u001b[1;33m)\u001b[0m\u001b[1;33m\u001b[0m\u001b[1;33m\u001b[0m\u001b[0m\n\u001b[0m",
      "\u001b[1;31mNameError\u001b[0m: name 'x_columns' is not defined"
     ]
    }
   ],
   "source": [
    "interact(render_plot, x_col=x_col, y_col=x_col, k=ks)"
   ]
  },
  {
   "cell_type": "code",
   "execution_count": null,
   "metadata": {},
   "outputs": [],
   "source": []
  }
 ],
 "metadata": {
  "kernelspec": {
   "display_name": "Python 3",
   "language": "python",
   "name": "python3"
  },
  "language_info": {
   "codemirror_mode": {
    "name": "ipython",
    "version": 3
   },
   "file_extension": ".py",
   "mimetype": "text/x-python",
   "name": "python",
   "nbconvert_exporter": "python",
   "pygments_lexer": "ipython3",
   "version": "3.7.4"
  }
 },
 "nbformat": 4,
 "nbformat_minor": 2
}
